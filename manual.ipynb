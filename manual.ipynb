{
 "cells": [
  {
   "cell_type": "markdown",
   "metadata": {},
   "source": [
    "### Manually Download Code"
   ]
  },
  {
   "cell_type": "code",
   "execution_count": 1,
   "metadata": {},
   "outputs": [],
   "source": [
    "# Required Libraries, do not touch\n",
    "import sys\n",
    "import os\n",
    "from configparser import ConfigParser\n",
    "from datetime import datetime, timedelta\n",
    "\n",
    "# Add other libraries below\n",
    "# import numpy\n",
    "# import pandas"
   ]
  },
  {
   "cell_type": "code",
   "execution_count": 2,
   "metadata": {},
   "outputs": [],
   "source": [
    "# Variables [Do not change]\n",
    "manual = True\n",
    "\n",
    "# Variables [You can change]\n",
    "startdate = '2002-06-01' # For end date, get the current date, minus 1 day, in string format YYYY-MM-DD\n",
    "enddate = (datetime.now() - timedelta(days=1)).strftime('%Y-%m-%d')"
   ]
  },
  {
   "cell_type": "code",
   "execution_count": 3,
   "metadata": {},
   "outputs": [
    {
     "name": "stdout",
     "output_type": "stream",
     "text": [
      "[11:50:28] Dates Missing from SST Database: []\n"
     ]
    }
   ],
   "source": [
    "sys.path.append('./main/')\n",
    "from bmnp import BMNP_Data, BMNP_Download\n",
    "\n",
    "data = BMNP_Data(startdate=startdate, enddate=enddate, manually=manual)\n",
    "download = BMNP_Download(manually=manual)"
   ]
  },
  {
   "cell_type": "code",
   "execution_count": 4,
   "metadata": {},
   "outputs": [
    {
     "data": {
      "text/plain": [
       "['2024-07-07']"
      ]
     },
     "execution_count": 4,
     "metadata": {},
     "output_type": "execute_result"
    }
   ],
   "source": [
    "missing_dates = ['2024-07-07']\n",
    "\n",
    "data.download.downloaded_dates = missing_dates\n",
    "data.delete_singles = False\n",
    "data.dates_missing = True\n",
    "data.download.downloaded_dates"
   ]
  },
  {
   "cell_type": "code",
   "execution_count": 5,
   "metadata": {},
   "outputs": [
    {
     "name": "stdout",
     "output_type": "stream",
     "text": [
      "[11:50:28] Going through the else if data...\n",
      "[11:50:28] Date Index: 8072\n",
      "[11:50:28] New Lat: 30 New Lon: 24\n",
      "[11:50:28] Min Lat: 12.020000457763672 Max Lat: 12.3100004196167\n",
      "[11:50:28] Min Lon: -68.41999816894531 Max Lon: -68.19000244140625\n",
      "[11:50:28] Date: 2024-07-07 Lat: 34 Lon: 27\n",
      "[11:50:28] SST Data Shape: (0, 24, 27)\n",
      "[11:50:28] Bleaching Threshold Shape: (30, 24)\n"
     ]
    },
    {
     "ename": "ValueError",
     "evalue": "operands could not be broadcast together with shapes (0,24,27) (30,24) ",
     "output_type": "error",
     "traceback": [
      "\u001b[1;31m---------------------------------------------------------------------------\u001b[0m",
      "\u001b[1;31mValueError\u001b[0m                                Traceback (most recent call last)",
      "Cell \u001b[1;32mIn[5], line 1\u001b[0m\n\u001b[1;32m----> 1\u001b[0m \u001b[43mdata\u001b[49m\u001b[38;5;241;43m.\u001b[39;49m\u001b[43mcreateDHWs\u001b[49m\u001b[43m(\u001b[49m\u001b[43m)\u001b[49m\n",
      "File \u001b[1;32mg:\\Research\\BMNP-2.0\\main\\bmnp.py:920\u001b[0m, in \u001b[0;36mBMNP_Data.createDHWs\u001b[1;34m(self)\u001b[0m\n\u001b[0;32m    917\u001b[0m \u001b[38;5;28mprint\u001b[39m(\u001b[38;5;124mf\u001b[39m\u001b[38;5;124m'\u001b[39m\u001b[38;5;124m[\u001b[39m\u001b[38;5;132;01m{\u001b[39;00m\u001b[38;5;28mself\u001b[39m\u001b[38;5;241m.\u001b[39mgetHrMnSc()\u001b[38;5;132;01m}\u001b[39;00m\u001b[38;5;124m] Bleaching Threshold Shape: \u001b[39m\u001b[38;5;132;01m{\u001b[39;00mshape(bleaching_threshold)\u001b[38;5;132;01m}\u001b[39;00m\u001b[38;5;124m'\u001b[39m)\n\u001b[0;32m    919\u001b[0m \u001b[38;5;66;03m# Do sst_data - bleaching_threshold\u001b[39;00m\n\u001b[1;32m--> 920\u001b[0m sst_data_dailydhw \u001b[38;5;241m=\u001b[39m \u001b[43msst_data\u001b[49m\u001b[43m \u001b[49m\u001b[38;5;241;43m-\u001b[39;49m\u001b[43m \u001b[49m\u001b[43mbleaching_threshold\u001b[49m\n\u001b[0;32m    922\u001b[0m \u001b[38;5;66;03m# Replace all negative values with 0\u001b[39;00m\n\u001b[0;32m    923\u001b[0m sst_data_dailydhw \u001b[38;5;241m=\u001b[39m where(sst_data_dailydhw \u001b[38;5;241m<\u001b[39m \u001b[38;5;241m0\u001b[39m, \u001b[38;5;241m0\u001b[39m, sst_data_dailydhw)\n",
      "File \u001b[1;32mc:\\Users\\Brendito\\anaconda3\\envs\\bmnp2\\Lib\\site-packages\\numpy\\ma\\core.py:4235\u001b[0m, in \u001b[0;36mMaskedArray.__sub__\u001b[1;34m(self, other)\u001b[0m\n\u001b[0;32m   4233\u001b[0m \u001b[38;5;28;01mif\u001b[39;00m \u001b[38;5;28mself\u001b[39m\u001b[38;5;241m.\u001b[39m_delegate_binop(other):\n\u001b[0;32m   4234\u001b[0m     \u001b[38;5;28;01mreturn\u001b[39;00m \u001b[38;5;28mNotImplemented\u001b[39m\n\u001b[1;32m-> 4235\u001b[0m \u001b[38;5;28;01mreturn\u001b[39;00m \u001b[43msubtract\u001b[49m\u001b[43m(\u001b[49m\u001b[38;5;28;43mself\u001b[39;49m\u001b[43m,\u001b[49m\u001b[43m \u001b[49m\u001b[43mother\u001b[49m\u001b[43m)\u001b[49m\n",
      "File \u001b[1;32mc:\\Users\\Brendito\\anaconda3\\envs\\bmnp2\\Lib\\site-packages\\numpy\\ma\\core.py:1020\u001b[0m, in \u001b[0;36m_MaskedBinaryOperation.__call__\u001b[1;34m(self, a, b, *args, **kwargs)\u001b[0m\n\u001b[0;32m   1018\u001b[0m \u001b[38;5;28;01mwith\u001b[39;00m np\u001b[38;5;241m.\u001b[39merrstate():\n\u001b[0;32m   1019\u001b[0m     np\u001b[38;5;241m.\u001b[39mseterr(divide\u001b[38;5;241m=\u001b[39m\u001b[38;5;124m'\u001b[39m\u001b[38;5;124mignore\u001b[39m\u001b[38;5;124m'\u001b[39m, invalid\u001b[38;5;241m=\u001b[39m\u001b[38;5;124m'\u001b[39m\u001b[38;5;124mignore\u001b[39m\u001b[38;5;124m'\u001b[39m)\n\u001b[1;32m-> 1020\u001b[0m     result \u001b[38;5;241m=\u001b[39m \u001b[38;5;28;43mself\u001b[39;49m\u001b[38;5;241;43m.\u001b[39;49m\u001b[43mf\u001b[49m\u001b[43m(\u001b[49m\u001b[43mda\u001b[49m\u001b[43m,\u001b[49m\u001b[43m \u001b[49m\u001b[43mdb\u001b[49m\u001b[43m,\u001b[49m\u001b[43m \u001b[49m\u001b[38;5;241;43m*\u001b[39;49m\u001b[43margs\u001b[49m\u001b[43m,\u001b[49m\u001b[43m \u001b[49m\u001b[38;5;241;43m*\u001b[39;49m\u001b[38;5;241;43m*\u001b[39;49m\u001b[43mkwargs\u001b[49m\u001b[43m)\u001b[49m\n\u001b[0;32m   1021\u001b[0m \u001b[38;5;66;03m# Get the mask for the result\u001b[39;00m\n\u001b[0;32m   1022\u001b[0m (ma, mb) \u001b[38;5;241m=\u001b[39m (getmask(a), getmask(b))\n",
      "\u001b[1;31mValueError\u001b[0m: operands could not be broadcast together with shapes (0,24,27) (30,24) "
     ]
    }
   ],
   "source": [
    "data.createDHWs()"
   ]
  },
  {
   "cell_type": "code",
   "execution_count": 8,
   "metadata": {},
   "outputs": [
    {
     "data": {
      "text/plain": [
       "'2021-10-23.nc'"
      ]
     },
     "execution_count": 8,
     "metadata": {},
     "output_type": "execute_result"
    }
   ],
   "source": [
    "# Open first item in the \"./data/nc_sst/\" folder\n",
    "first_item = os.listdir('./data/nc_sst/')[0]\n",
    "first_item"
   ]
  },
  {
   "cell_type": "code",
   "execution_count": 9,
   "metadata": {},
   "outputs": [
    {
     "data": {
      "text/plain": [
       "<class 'netCDF4._netCDF4.Dataset'>\n",
       "root group (NETCDF4 data model, file format HDF5):\n",
       "    dimensions(sizes): lon(27), lat(34), time(1)\n",
       "    variables(dimensions): float32 lon(lon), float32 lat(lat), float32 time(time), float32 analysed_sst(time, lat, lon)\n",
       "    groups: "
      ]
     },
     "execution_count": 9,
     "metadata": {},
     "output_type": "execute_result"
    }
   ],
   "source": [
    "# Load this using netcdf4\n",
    "import netCDF4 as nc\n",
    "nc_data = nc.Dataset('./data/nc_sst/' + first_item, 'r')\n",
    "nc_data"
   ]
  },
  {
   "cell_type": "code",
   "execution_count": 10,
   "metadata": {},
   "outputs": [],
   "source": [
    "# Retrieve \"lon\" and \"lat\" variables\n",
    "lons = nc_data.variables['lon'][:]\n",
    "lats = nc_data.variables['lat'][:]\n",
    "\n",
    "hrcs = nc.Dataset(f'./data/hrcs_mmm.nc', 'r')\n",
    "bleaching_threshold = hrcs.variables['variable'][:] + 1.0"
   ]
  },
  {
   "cell_type": "code",
   "execution_count": 11,
   "metadata": {},
   "outputs": [
    {
     "name": "stdout",
     "output_type": "stream",
     "text": [
      "First and last values of hrcs_lat: 12.020000457763672, 12.3100004196167\n",
      "First and last values of sst_lat: 12.0, 12.329999923706055\n",
      "First and last values of hrcs_lon: -68.41999816894531, -68.19000244140625\n",
      "First and last values of sst_lon: -68.44000244140625, -68.18000030517578\n"
     ]
    }
   ],
   "source": [
    "hrcs_lat = hrcs.variables['lat'][:]\n",
    "hrcs_lon = hrcs.variables['lon'][:]\n",
    "sst_lat = lats\n",
    "sst_lon = lons\n",
    "hrcs_lat = [round(lat, 2) for lat in hrcs_lat]\n",
    "hrcs_lon = [round(lon, 2) for lon in hrcs_lon]\n",
    "sst_lat = [round(lat, 2) for lat in sst_lat]\n",
    "sst_lon = [round(lon, 2) for lon in sst_lon]\n",
    "\n",
    "from numpy import sort\n",
    "# Order in ascending order\n",
    "hrcs_lat = sort(hrcs_lat)\n",
    "hrcs_lon = sort(hrcs_lon)\n",
    "sst_lat = sort(sst_lat)\n",
    "sst_lon = sort(sst_lon)\n",
    "\n",
    "# Print the first and last values of each.\n",
    "print(f'First and last values of hrcs_lat: {hrcs_lat[0]}, {hrcs_lat[-1]}')\n",
    "print(f'First and last values of sst_lat: {sst_lat[0]}, {sst_lat[-1]}')\n",
    "print(f'First and last values of hrcs_lon: {hrcs_lon[0]}, {hrcs_lon[-1]}')\n",
    "print(f'First and last values of sst_lon: {sst_lon[0]}, {sst_lon[-1]}')"
   ]
  },
  {
   "cell_type": "code",
   "execution_count": 12,
   "metadata": {},
   "outputs": [],
   "source": [
    "# Give me the minimum and maximum in both lat and lon for the hrcs file\n",
    "hrcs_min_lat = min(hrcs_lat)\n",
    "hrcs_max_lat = max(hrcs_lat)\n",
    "hrcs_min_lon = min(hrcs_lon)\n",
    "hrcs_max_lon = max(hrcs_lon)\n",
    "\n",
    "from numpy import where\n",
    "# Based on the min and max lat and lon, find the indices in the sst file.\n",
    "min_lat_idx = where(sst_lat == hrcs_min_lat)[0][0]\n",
    "max_lat_idx = where(sst_lat == hrcs_max_lat)[0][0]+1\n",
    "min_lon_idx = where(sst_lon == hrcs_min_lon)[0][0]\n",
    "max_lon_idx = where(sst_lon == hrcs_max_lon)[0][0]+1\n",
    "\n",
    "new_lat = sst_lat[min_lat_idx:max_lat_idx]\n",
    "new_lon = sst_lon[min_lon_idx:max_lon_idx]"
   ]
  },
  {
   "cell_type": "code",
   "execution_count": 14,
   "metadata": {},
   "outputs": [
    {
     "name": "stdout",
     "output_type": "stream",
     "text": [
      "(0, 24, 27)\n"
     ]
    }
   ],
   "source": [
    "sst_data = nc_data.variables['analysed_sst'][0, min_lat_idx:max_lat_idx, min_lon_idx:max_lon_idx]\n",
    "# Print shape\n",
    "print(sst_data.shape)"
   ]
  }
 ],
 "metadata": {
  "kernelspec": {
   "display_name": "bmnp2",
   "language": "python",
   "name": "python3"
  },
  "language_info": {
   "codemirror_mode": {
    "name": "ipython",
    "version": 3
   },
   "file_extension": ".py",
   "mimetype": "text/x-python",
   "name": "python",
   "nbconvert_exporter": "python",
   "pygments_lexer": "ipython3",
   "version": "3.12.4"
  }
 },
 "nbformat": 4,
 "nbformat_minor": 2
}
