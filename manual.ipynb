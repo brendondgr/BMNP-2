{
 "cells": [
  {
   "cell_type": "markdown",
   "metadata": {},
   "source": [
    "### Manually Download Code"
   ]
  },
  {
   "cell_type": "code",
   "execution_count": 1,
   "metadata": {},
   "outputs": [],
   "source": [
    "# Required Libraries, do not touch\n",
    "import sys\n",
    "import os\n",
    "from configparser import ConfigParser\n",
    "from datetime import datetime, timedelta\n",
    "\n",
    "# Add other libraries below\n",
    "# import numpy\n",
    "# import pandas"
   ]
  },
  {
   "cell_type": "code",
   "execution_count": 2,
   "metadata": {},
   "outputs": [],
   "source": [
    "# Variables [Do not change]\n",
    "manual = True\n",
    "\n",
    "# Variables [You can change]\n",
    "startdate = '2002-06-01' # For end date, get the current date, minus 1 day, in string format YYYY-MM-DD\n",
    "enddate = (datetime.now() - timedelta(days=1)).strftime('%Y-%m-%d')"
   ]
  },
  {
   "cell_type": "code",
   "execution_count": 3,
   "metadata": {},
   "outputs": [
    {
     "name": "stdout",
     "output_type": "stream",
     "text": [
      "[13:14:33] Dates Missing from SST Database: ['2024-08-05', '2024-08-06', '2024-08-07', '2024-08-08', '2024-08-09', '2024-08-10', '2024-08-11']\n"
     ]
    }
   ],
   "source": [
    "sys.path.append('./main/')\n",
    "from bmnp import BMNP_Data, BMNP_Download\n",
    "\n",
    "data = BMNP_Data(startdate=startdate, enddate=enddate, manually=manual)\n",
    "download = BMNP_Download(manually=manual)"
   ]
  },
  {
   "cell_type": "code",
   "execution_count": 4,
   "metadata": {},
   "outputs": [
    {
     "data": {
      "text/plain": [
       "['2024-08-05']"
      ]
     },
     "execution_count": 4,
     "metadata": {},
     "output_type": "execute_result"
    }
   ],
   "source": [
    "missing_dates = ['2024-08-05']\n",
    "\n",
    "data.download.downloaded_dates = missing_dates\n",
    "data.delete_singles = False\n",
    "data.dates_missing = True\n",
    "data.download.downloaded_dates"
   ]
  },
  {
   "cell_type": "code",
   "execution_count": 6,
   "metadata": {},
   "outputs": [
    {
     "name": "stdout",
     "output_type": "stream",
     "text": [
      "[13:16:15] Downloading the Date: 2024-08-05. Please give this a moment...\n",
      "[13:17:28] Files for the date 2024-08-05 were downloaded. Now fixing the data...\n",
      "[13:17:44] Date: 2024-08-05 has been downloaded and refined.\n"
     ]
    }
   ],
   "source": [
    "command = data.download.setCommand('2024-08-05')\n",
    "\n",
    "data.download.downloadData('2024-08-05', command)"
   ]
  },
  {
   "cell_type": "code",
   "execution_count": 5,
   "metadata": {},
   "outputs": [
    {
     "name": "stdout",
     "output_type": "stream",
     "text": [
      "[12:31:47] Date Index: 8072\n",
      "[12:31:47] File [2024-07-07] has been created for single-day DHWs.\n"
     ]
    }
   ],
   "source": [
    "data.createDHWs()"
   ]
  },
  {
   "cell_type": "code",
   "execution_count": 6,
   "metadata": {},
   "outputs": [
    {
     "data": {
      "text/plain": [
       "'2021-10-23.nc'"
      ]
     },
     "execution_count": 6,
     "metadata": {},
     "output_type": "execute_result"
    }
   ],
   "source": [
    "# Open first item in the \"./data/nc_sst/\" folder\n",
    "first_item = os.listdir('./data/nc_sst/')[0]\n",
    "first_item"
   ]
  },
  {
   "cell_type": "code",
   "execution_count": 7,
   "metadata": {},
   "outputs": [
    {
     "data": {
      "text/plain": [
       "<class 'netCDF4._netCDF4.Dataset'>\n",
       "root group (NETCDF4 data model, file format HDF5):\n",
       "    dimensions(sizes): lon(27), lat(34), time(1)\n",
       "    variables(dimensions): float32 lon(lon), float32 lat(lat), float32 time(time), float32 analysed_sst(time, lat, lon)\n",
       "    groups: "
      ]
     },
     "execution_count": 7,
     "metadata": {},
     "output_type": "execute_result"
    }
   ],
   "source": [
    "# Load this using netcdf4\n",
    "import netCDF4 as nc\n",
    "nc_data = nc.Dataset('./data/nc_sst/' + first_item, 'r')\n",
    "nc_data"
   ]
  }
 ],
 "metadata": {
  "kernelspec": {
   "display_name": "bmnp2",
   "language": "python",
   "name": "python3"
  },
  "language_info": {
   "codemirror_mode": {
    "name": "ipython",
    "version": 3
   },
   "file_extension": ".py",
   "mimetype": "text/x-python",
   "name": "python",
   "nbconvert_exporter": "python",
   "pygments_lexer": "ipython3",
   "version": "3.12.4"
  }
 },
 "nbformat": 4,
 "nbformat_minor": 2
}
